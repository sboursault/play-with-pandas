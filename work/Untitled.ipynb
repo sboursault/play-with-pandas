{
 "cells": [
  {
   "cell_type": "code",
   "execution_count": 1,
   "metadata": {},
   "outputs": [],
   "source": [
    "import pandas as pd\n",
    "import numpy as np\n",
    "import matplotlib.pyplot as plt\n",
    "%matplotlib inline\n",
    " \n",
    "from sklearn.linear_model import LinearRegression"
   ]
  },
  {
   "cell_type": "code",
   "execution_count": 2,
   "metadata": {},
   "outputs": [
    {
     "data": {
      "text/html": [
       "<div>\n",
       "<style scoped>\n",
       "    .dataframe tbody tr th:only-of-type {\n",
       "        vertical-align: middle;\n",
       "    }\n",
       "\n",
       "    .dataframe tbody tr th {\n",
       "        vertical-align: top;\n",
       "    }\n",
       "\n",
       "    .dataframe thead th {\n",
       "        text-align: right;\n",
       "    }\n",
       "</style>\n",
       "<table border=\"1\" class=\"dataframe\">\n",
       "  <thead>\n",
       "    <tr style=\"text-align: right;\">\n",
       "      <th></th>\n",
       "      <th>sexe</th>\n",
       "      <th>preusuel</th>\n",
       "      <th>annais</th>\n",
       "      <th>dpt</th>\n",
       "      <th>nombre</th>\n",
       "    </tr>\n",
       "  </thead>\n",
       "  <tbody>\n",
       "    <tr>\n",
       "      <th>0</th>\n",
       "      <td>1</td>\n",
       "      <td>A</td>\n",
       "      <td>XXXX</td>\n",
       "      <td>XX</td>\n",
       "      <td>28</td>\n",
       "    </tr>\n",
       "    <tr>\n",
       "      <th>1</th>\n",
       "      <td>1</td>\n",
       "      <td>AADAM</td>\n",
       "      <td>XXXX</td>\n",
       "      <td>XX</td>\n",
       "      <td>24</td>\n",
       "    </tr>\n",
       "    <tr>\n",
       "      <th>2</th>\n",
       "      <td>1</td>\n",
       "      <td>AADEL</td>\n",
       "      <td>XXXX</td>\n",
       "      <td>XX</td>\n",
       "      <td>55</td>\n",
       "    </tr>\n",
       "    <tr>\n",
       "      <th>3</th>\n",
       "      <td>1</td>\n",
       "      <td>AADIL</td>\n",
       "      <td>1983</td>\n",
       "      <td>84</td>\n",
       "      <td>3</td>\n",
       "    </tr>\n",
       "    <tr>\n",
       "      <th>4</th>\n",
       "      <td>1</td>\n",
       "      <td>AADIL</td>\n",
       "      <td>1992</td>\n",
       "      <td>92</td>\n",
       "      <td>3</td>\n",
       "    </tr>\n",
       "  </tbody>\n",
       "</table>\n",
       "</div>"
      ],
      "text/plain": [
       "   sexe preusuel annais dpt  nombre\n",
       "0     1        A   XXXX  XX      28\n",
       "1     1    AADAM   XXXX  XX      24\n",
       "2     1    AADEL   XXXX  XX      55\n",
       "3     1    AADIL   1983  84       3\n",
       "4     1    AADIL   1992  92       3"
      ]
     },
     "execution_count": 2,
     "metadata": {},
     "output_type": "execute_result"
    }
   ],
   "source": [
    "column_dtypes = {'sexe': 'uint8',\n",
    "                 'preusuel': 'object',\n",
    "                 'annais': 'object',\n",
    "                 'dpt': 'object',\n",
    "                 'nombre': 'uint32'}\n",
    "\n",
    "df = pd.read_csv( 'dpt2017.txt', sep='\\t', dtype = column_dtypes)\n",
    "\n",
    "df = df[df['preusuel'] != '_PRENOMS_RARES']\n",
    "df.head()"
   ]
  },
  {
   "cell_type": "code",
   "execution_count": 3,
   "metadata": {},
   "outputs": [
    {
     "data": {
      "text/html": [
       "<div>\n",
       "<style scoped>\n",
       "    .dataframe tbody tr th:only-of-type {\n",
       "        vertical-align: middle;\n",
       "    }\n",
       "\n",
       "    .dataframe tbody tr th {\n",
       "        vertical-align: top;\n",
       "    }\n",
       "\n",
       "    .dataframe thead th {\n",
       "        text-align: right;\n",
       "    }\n",
       "</style>\n",
       "<table border=\"1\" class=\"dataframe\">\n",
       "  <thead>\n",
       "    <tr style=\"text-align: right;\">\n",
       "      <th></th>\n",
       "      <th>sexe</th>\n",
       "      <th>preusuel</th>\n",
       "      <th>annais</th>\n",
       "      <th>dpt</th>\n",
       "      <th>nombre</th>\n",
       "    </tr>\n",
       "  </thead>\n",
       "  <tbody>\n",
       "    <tr>\n",
       "      <th>3</th>\n",
       "      <td>1</td>\n",
       "      <td>AADIL</td>\n",
       "      <td>1983</td>\n",
       "      <td>84</td>\n",
       "      <td>3</td>\n",
       "    </tr>\n",
       "    <tr>\n",
       "      <th>4</th>\n",
       "      <td>1</td>\n",
       "      <td>AADIL</td>\n",
       "      <td>1992</td>\n",
       "      <td>92</td>\n",
       "      <td>3</td>\n",
       "    </tr>\n",
       "    <tr>\n",
       "      <th>7</th>\n",
       "      <td>1</td>\n",
       "      <td>AARON</td>\n",
       "      <td>1962</td>\n",
       "      <td>75</td>\n",
       "      <td>3</td>\n",
       "    </tr>\n",
       "    <tr>\n",
       "      <th>8</th>\n",
       "      <td>1</td>\n",
       "      <td>AARON</td>\n",
       "      <td>1976</td>\n",
       "      <td>75</td>\n",
       "      <td>3</td>\n",
       "    </tr>\n",
       "    <tr>\n",
       "      <th>9</th>\n",
       "      <td>1</td>\n",
       "      <td>AARON</td>\n",
       "      <td>1982</td>\n",
       "      <td>75</td>\n",
       "      <td>3</td>\n",
       "    </tr>\n",
       "  </tbody>\n",
       "</table>\n",
       "</div>"
      ],
      "text/plain": [
       "   sexe preusuel  annais dpt  nombre\n",
       "3     1    AADIL    1983  84       3\n",
       "4     1    AADIL    1992  92       3\n",
       "7     1    AARON    1962  75       3\n",
       "8     1    AARON    1976  75       3\n",
       "9     1    AARON    1982  75       3"
      ]
     },
     "execution_count": 3,
     "metadata": {},
     "output_type": "execute_result"
    }
   ],
   "source": [
    "# filter out rows with invalid years\n",
    "\n",
    "extr = df['annais'].str.extract(r'^(\\d{4})', expand=False)\n",
    "df['annais'] = pd.to_numeric(extr)  # downcast='unsigned' not working\n",
    "\n",
    "df = df.dropna()\n",
    "\n",
    "df = df[df['annais'] > 1960]\n",
    "\n",
    "df['annais'] = df['annais'].astype('uint16')\n",
    "\n",
    "df.head()\n",
    "\n",
    "# data.to_csv(‘cleanfile.csv’ encoding=’utf-8’)"
   ]
  },
  {
   "cell_type": "code",
   "execution_count": 4,
   "metadata": {},
   "outputs": [],
   "source": [
    "# to_numeric on departments\n",
    "\n",
    "df['dpt'] = pd.to_numeric(df['dpt']).astype('uint16')\n"
   ]
  },
  {
   "cell_type": "code",
   "execution_count": 5,
   "metadata": {},
   "outputs": [
    {
     "data": {
      "text/html": [
       "<div>\n",
       "<style scoped>\n",
       "    .dataframe tbody tr th:only-of-type {\n",
       "        vertical-align: middle;\n",
       "    }\n",
       "\n",
       "    .dataframe tbody tr th {\n",
       "        vertical-align: top;\n",
       "    }\n",
       "\n",
       "    .dataframe thead th {\n",
       "        text-align: right;\n",
       "    }\n",
       "</style>\n",
       "<table border=\"1\" class=\"dataframe\">\n",
       "  <thead>\n",
       "    <tr style=\"text-align: right;\">\n",
       "      <th></th>\n",
       "      <th>sexe</th>\n",
       "      <th>preusuel</th>\n",
       "      <th>annais</th>\n",
       "      <th>dpt</th>\n",
       "      <th>nombre</th>\n",
       "    </tr>\n",
       "  </thead>\n",
       "  <tbody>\n",
       "    <tr>\n",
       "      <th>3</th>\n",
       "      <td>1</td>\n",
       "      <td>AADIL</td>\n",
       "      <td>1983</td>\n",
       "      <td>84</td>\n",
       "      <td>3</td>\n",
       "    </tr>\n",
       "    <tr>\n",
       "      <th>4</th>\n",
       "      <td>1</td>\n",
       "      <td>AADIL</td>\n",
       "      <td>1992</td>\n",
       "      <td>92</td>\n",
       "      <td>3</td>\n",
       "    </tr>\n",
       "    <tr>\n",
       "      <th>7</th>\n",
       "      <td>1</td>\n",
       "      <td>AARON</td>\n",
       "      <td>1962</td>\n",
       "      <td>75</td>\n",
       "      <td>3</td>\n",
       "    </tr>\n",
       "    <tr>\n",
       "      <th>8</th>\n",
       "      <td>1</td>\n",
       "      <td>AARON</td>\n",
       "      <td>1976</td>\n",
       "      <td>75</td>\n",
       "      <td>3</td>\n",
       "    </tr>\n",
       "    <tr>\n",
       "      <th>9</th>\n",
       "      <td>1</td>\n",
       "      <td>AARON</td>\n",
       "      <td>1982</td>\n",
       "      <td>75</td>\n",
       "      <td>3</td>\n",
       "    </tr>\n",
       "  </tbody>\n",
       "</table>\n",
       "</div>"
      ],
      "text/plain": [
       "   sexe preusuel  annais  dpt  nombre\n",
       "3     1    AADIL    1983   84       3\n",
       "4     1    AADIL    1992   92       3\n",
       "7     1    AARON    1962   75       3\n",
       "8     1    AARON    1976   75       3\n",
       "9     1    AARON    1982   75       3"
      ]
     },
     "execution_count": 5,
     "metadata": {},
     "output_type": "execute_result"
    }
   ],
   "source": [
    "# remove accents in string columns\n",
    "\n",
    "def normalize(x):\n",
    "    return x.str.upper().str.normalize('NFKD').str.encode('ascii', errors='ignore').str.decode('utf-8')\n",
    "\n",
    "str_cols = df.select_dtypes(include=[np.object]).columns\n",
    "df[str_cols] = df[str_cols].apply(normalize)\n",
    "\n",
    "df.head()"
   ]
  },
  {
   "cell_type": "code",
   "execution_count": 39,
   "metadata": {},
   "outputs": [
    {
     "data": {
      "text/plain": [
       "<matplotlib.axes._subplots.AxesSubplot at 0x7fc1ce6e17b8>"
      ]
     },
     "execution_count": 39,
     "metadata": {},
     "output_type": "execute_result"
    },
    {
     "data": {
      "image/png": "[encoded data removed]",
      "text/plain": [
       "<Figure size 432x288 with 1 Axes>"
      ]
     },
     "metadata": {
      "needs_background": "light"
     },
     "output_type": "display_data"
    }
   ],
   "source": [
    "# TODO filter where dpt or annais is not a number\n",
    "\n",
    "df.describe()"
   ]
  },
  {
   "cell_type": "code",
   "execution_count": 16,
   "metadata": {},
   "outputs": [
    {
     "data": {
      "text/plain": [
       "sexe         uint8\n",
       "preusuel    object\n",
       "annais      uint16\n",
       "dpt         uint16\n",
       "nombre      uint32\n",
       "dtype: object"
      ]
     },
     "execution_count": 16,
     "metadata": {},
     "output_type": "execute_result"
    }
   ],
   "source": [
    "df.dtypes"
   ]
  },
  {
   "cell_type": "code",
   "execution_count": 20,
   "metadata": {},
   "outputs": [
    {
     "data": {
      "text/plain": [
       "CAMILLE           6563\n",
       "JEROME            6044\n",
       "MARIE             5472\n",
       "PIERRE            5376\n",
       "RAPHAEL           5274\n",
       "CEDRIC            5233\n",
       "NICOLAS           5227\n",
       "ANTOINE           5133\n",
       "ALEXANDRE         5037\n",
       "JEREMY            5017\n",
       "MICKAEL           4986\n",
       "ANGELIQUE         4897\n",
       "VINCENT           4843\n",
       "DAVID             4828\n",
       "THOMAS            4793\n",
       "PAUL              4763\n",
       "LAETITIA          4725\n",
       "SOPHIE            4705\n",
       "JEAN              4704\n",
       "SARAH             4691\n",
       "EMILIE            4657\n",
       "KEVIN             4649\n",
       "CLAIRE            4621\n",
       "GAELLE            4620\n",
       "SAMUEL            4569\n",
       "GUILLAUME         4511\n",
       "JULIEN            4492\n",
       "GREGORY           4485\n",
       "MAXIME            4482\n",
       "MATHIEU           4450\n",
       "                  ... \n",
       "LOUISANE             1\n",
       "KISHAN               1\n",
       "YLANNA               1\n",
       "HONORYNE             1\n",
       "EDIS                 1\n",
       "RUSSEL               1\n",
       "GIULLIAN             1\n",
       "DEMBO                1\n",
       "MANECK               1\n",
       "ENYS                 1\n",
       "KAYAN                1\n",
       "SAFIYE               1\n",
       "MENISSA              1\n",
       "PALMINA              1\n",
       "CHAILY               1\n",
       "OLIVA                1\n",
       "SAINT-JEAN           1\n",
       "TRACIE               1\n",
       "PIERRE-MATHIEU       1\n",
       "DARYA                1\n",
       "LOUCKAS              1\n",
       "DALE                 1\n",
       "ILOUNA               1\n",
       "KEYDEN               1\n",
       "HENYA                1\n",
       "LIBERT               1\n",
       "LUIGGI               1\n",
       "MEGHANNE             1\n",
       "NOURIMEN             1\n",
       "RUI-MANUEL           1\n",
       "Name: preusuel, Length: 11970, dtype: int64"
      ]
     },
     "execution_count": 20,
     "metadata": {},
     "output_type": "execute_result"
    }
   ],
   "source": [
    "df['preusuel'].value_counts()"
   ]
  },
  {
   "cell_type": "code",
   "execution_count": 9,
   "metadata": {},
   "outputs": [
    {
     "name": "stdout",
     "output_type": "stream",
     "text": [
      "\n",
      "top:\n",
      "                 nombre       annais\n",
      "sexe preusuel                       \n",
      "1    NICOLAS     386471  1988.034437\n",
      "2    NATHALIE    369125  1978.874926\n",
      "1    CHRISTOPHE  359553  1981.372265\n",
      "2    MARIE       341927  1988.550065\n",
      "     ISABELLE    312016  1979.807102\n",
      "1    DAVID       305369  1987.836993\n",
      "     PHILIPPE    301466  1980.475849\n",
      "     SEBASTIEN   298747  1986.854879\n",
      "     STEPHANE    293334  1981.793501\n",
      "     FREDERIC    291134  1980.781690\n",
      "     JULIEN      288518  1991.477070\n",
      "     LAURENT     288323  1980.725193\n",
      "     THOMAS      270427  1992.384969\n",
      "2    SYLVIE      262840  1976.056683\n",
      "1    ERIC        261504  1980.099353\n",
      "     ALEXANDRE   261157  1990.594600\n",
      "     OLIVIER     250592  1983.078625\n",
      "2    VALERIE     244855  1976.858710\n",
      "     SANDRINE    238148  1979.008189\n",
      "     STEPHANIE   232052  1982.867651\n",
      "\n",
      "HELOISE:\n",
      "nombre    19387.000000\n",
      "annais     2000.128182\n",
      "Name: (2, HELOISE), dtype: float64\n",
      "\n",
      "ELOISE:\n",
      "nombre    26982.000000\n",
      "annais     2001.147427\n",
      "Name: (2, ELOISE), dtype: float64\n",
      "\n",
      "NATHAN:\n",
      "nombre    105678.000000\n",
      "annais      2003.302897\n",
      "Name: (1, NATHAN), dtype: float64\n",
      "\n",
      "FLORIAN:\n",
      "nombre    124593.00000\n",
      "annais      1992.65367\n",
      "Name: (1, FLORIAN), dtype: float64\n"
     ]
    }
   ],
   "source": [
    "nb_preusuel_df = df.groupby(\n",
    "    ['sexe', 'preusuel']\n",
    ").agg(\n",
    "    {\n",
    "         'nombre':sum,\n",
    "         'annais': \"mean\"\n",
    "    }\n",
    ").sort_values(by='nombre', ascending=False)\n",
    "\n",
    "print(\"\\ntop:\")\n",
    "print(nb_preusuel_df.head(20))\n",
    "\n",
    "print(\"\\nHELOISE:\")\n",
    "print(nb_preusuel_df.loc[(2, 'HELOISE')].head())\n",
    "\n",
    "print(\"\\nELOISE:\")\n",
    "print(nb_preusuel_df.loc[(2, 'ELOISE')].head())\n",
    "\n",
    "print(\"\\nNATHAN:\")\n",
    "print(nb_preusuel_df.loc[(1, 'NATHAN')].head())\n",
    "\n",
    "print(\"\\nFLORIAN:\")\n",
    "print(nb_preusuel_df.loc[(1, 'FLORIAN')].head())"
   ]
  },
  {
   "cell_type": "code",
   "execution_count": 38,
   "metadata": {},
   "outputs": [
    {
     "data": {
      "text/plain": [
       "<matplotlib.axes._subplots.AxesSubplot at 0x7fc1ce783080>"
      ]
     },
     "execution_count": 38,
     "metadata": {},
     "output_type": "execute_result"
    },
    {
     "data": {
      "image/png": "[encoded data removed]",
      "text/plain": [
       "<Figure size 432x288 with 1 Axes>"
      ]
     },
     "metadata": {
      "needs_background": "light"
     },
     "output_type": "display_data"
    }
   ],
   "source": [
    "df[\n",
    "    df['preusuel'] == 'PHILIPPE'\n",
    "].groupby(\n",
    "    'annais'\n",
    ").agg(\n",
    "    { 'nombre':sum } \n",
    ").sort_values(\n",
    "    by='annais', ascending=False\n",
    ").plot()\n",
    "\n",
    "#plt.hist( nb_preusuel_df.nombre )"
   ]
  },
  {
   "cell_type": "code",
   "execution_count": 34,
   "metadata": {},
   "outputs": [
    {
     "data": {
      "text/plain": [
       "<matplotlib.axes._subplots.AxesSubplot at 0x7fc1ce940ba8>"
      ]
     },
     "execution_count": 34,
     "metadata": {},
     "output_type": "execute_result"
    },
    {
     "data": {
      "image/png": "[encoded data removed]",
      "text/plain": [
       "<Figure size 432x288 with 1 Axes>"
      ]
     },
     "metadata": {
      "needs_background": "light"
     },
     "output_type": "display_data"
    }
   ],
   "source": [
    "df[\n",
    "    df['preusuel'] == 'NATHAN'\n",
    "].groupby(\n",
    "    'annais'\n",
    ").agg(\n",
    "    { 'nombre':sum } \n",
    ").sort_values(\n",
    "    by='annais', ascending=False\n",
    ").plot()"
   ]
  }
 ],
 "metadata": {
  "kernelspec": {
   "display_name": "Python 3",
   "language": "python",
   "name": "python3"
  },
  "language_info": {
   "codemirror_mode": {
    "name": "ipython",
    "version": 3
   },
   "file_extension": ".py",
   "mimetype": "text/x-python",
   "name": "python",
   "nbconvert_exporter": "python",
   "pygments_lexer": "ipython3",
   "version": "3.7.1"
  }
 },
 "nbformat": 4,
 "nbformat_minor": 2
}
